{
 "cells": [
  {
   "cell_type": "code",
   "execution_count": 1,
   "metadata": {},
   "outputs": [
    {
     "name": "stdout",
     "output_type": "stream",
     "text": [
      "Collecting unityagents (from -r requirements.txt (line 1))\n",
      "\u001b[?25l  Downloading https://files.pythonhosted.org/packages/82/42/c337c5ba34c72a2e01fab4abe113ba9f282c14404ced5d9568ac47a7c337/unityagents-0.4.0-py3-none-any.whl (72kB)\n",
      "\u001b[K    100% |████████████████████████████████| 81kB 3.8MB/s ta 0:00:01    28% |█████████                       | 20kB 10.9MB/s eta 0:00:01\n",
      "\u001b[?25hRequirement already satisfied: tensorflow in /opt/conda/lib/python3.6/site-packages (from -r requirements.txt (line 2)) (1.3.0)\n",
      "Requirement already satisfied: torch in /opt/conda/lib/python3.6/site-packages (from -r requirements.txt (line 3)) (0.4.0)\n",
      "Collecting cupy-cuda102 (from -r requirements.txt (line 4))\n",
      "\u001b[?25l  Downloading https://files.pythonhosted.org/packages/a5/58/f60f5302f06fdfa6f3ad3d40e2c60194d2c9daec332fb5496698eabc8cd9/cupy_cuda102-9.6.0-cp36-cp36m-manylinux1_x86_64.whl (60.7MB)\n",
      "\u001b[K    100% |████████████████████████████████| 60.7MB 268kB/s ta 0:00:011  0% |▏                               | 337kB 7.5MB/s eta 0:00:09    3% |█                               | 1.9MB 11.2MB/s eta 0:00:06    4% |█▎                              | 2.4MB 11.7MB/s eta 0:00:05    8% |██▋                             | 4.9MB 11.0MB/s eta 0:00:06    8% |██▉                             | 5.4MB 11.1MB/s eta 0:00:05    9% |███                             | 5.9MB 10.1MB/s eta 0:00:06    10% |███▎                            | 6.3MB 11.2MB/s eta 0:00:05    11% |███▊                            | 7.2MB 12.5MB/s eta 0:00:05    12% |████                            | 7.5MB 11.3MB/s eta 0:00:05    14% |████▌                           | 8.5MB 11.3MB/s eta 0:00:05    14% |████▊                           | 8.9MB 6.7MB/s eta 0:00:08    17% |█████▋                          | 10.7MB 8.3MB/s eta 0:00:07    20% |██████▍                         | 12.1MB 7.7MB/s eta 0:00:07    22% |███████▎                        | 13.8MB 10.6MB/s eta 0:00:05    24% |███████▊                        | 14.6MB 11.0MB/s eta 0:00:05    25% |████████▏                       | 15.4MB 8.4MB/s eta 0:00:06    26% |████████▍                       | 15.8MB 8.0MB/s eta 0:00:06    26% |████████▋                       | 16.3MB 11.4MB/s eta 0:00:04    27% |████████▉                       | 16.7MB 9.4MB/s eta 0:00:05    28% |█████████▎                      | 17.6MB 21.8MB/s eta 0:00:02    31% |██████████                      | 18.9MB 6.4MB/s eta 0:00:07    32% |██████████▌                     | 20.0MB 9.5MB/s eta 0:00:05    33% |██████████▊                     | 20.3MB 9.8MB/s eta 0:00:05    33% |██████████▉                     | 20.6MB 6.4MB/s eta 0:00:07    34% |███████████                     | 20.8MB 6.2MB/s eta 0:00:07    34% |███████████▏                    | 21.1MB 8.6MB/s eta 0:00:05    35% |███████████▎                    | 21.5MB 6.6MB/s eta 0:00:06    36% |███████████▋                    | 22.1MB 6.4MB/s eta 0:00:07    37% |████████████                    | 22.9MB 10.0MB/s eta 0:00:04    38% |████████████▎                   | 23.2MB 18.7MB/s eta 0:00:03    38% |████████████▍                   | 23.6MB 6.3MB/s eta 0:00:06    39% |████████████▋                   | 23.9MB 6.2MB/s eta 0:00:06    40% |████████████▉                   | 24.4MB 13.0MB/s eta 0:00:03    40% |█████████████                   | 24.7MB 5.4MB/s eta 0:00:07    41% |█████████████▏                  | 25.0MB 9.3MB/s eta 0:00:04    41% |█████████████▍                  | 25.3MB 6.8MB/s eta 0:00:06    43% |█████████████▉                  | 26.3MB 8.5MB/s eta 0:00:05    44% |██████████████▏                 | 26.8MB 21.3MB/s eta 0:00:02    45% |██████████████▍                 | 27.3MB 12.1MB/s eta 0:00:03    46% |███████████████                 | 28.3MB 6.4MB/s eta 0:00:06    47% |███████████████                 | 28.6MB 8.4MB/s eta 0:00:04    49% |███████████████▉                | 30.1MB 7.6MB/s eta 0:00:05    50% |████████████████                | 30.5MB 10.5MB/s eta 0:00:03    51% |████████████████▌               | 31.2MB 5.9MB/s eta 0:00:06    52% |████████████████▉               | 31.9MB 9.3MB/s eta 0:00:04    53% |█████████████████▎              | 32.8MB 7.8MB/s eta 0:00:04    55% |█████████████████▉              | 33.9MB 10.7MB/s eta 0:00:03    56% |██████████████████              | 34.2MB 10.1MB/s eta 0:00:03    56% |██████████████████▎             | 34.6MB 6.1MB/s eta 0:00:05    57% |██████████████████▋             | 35.2MB 5.3MB/s eta 0:00:05    59% |███████████████████             | 36.0MB 8.9MB/s eta 0:00:03    60% |███████████████████▏            | 36.4MB 8.8MB/s eta 0:00:03    60% |███████████████████▍            | 36.8MB 5.1MB/s eta 0:00:05    62% |████████████████████            | 38.0MB 5.5MB/s eta 0:00:05    64% |████████████████████▋           | 39.1MB 6.8MB/s eta 0:00:04    64% |████████████████████▊           | 39.4MB 8.0MB/s eta 0:00:03    65% |█████████████████████           | 39.7MB 9.2MB/s eta 0:00:03    65% |█████████████████████           | 39.9MB 5.2MB/s eta 0:00:05    67% |█████████████████████▋          | 40.9MB 19.5MB/s eta 0:00:02    68% |█████████████████████▉          | 41.3MB 11.7MB/s eta 0:00:02    68% |██████████████████████          | 41.7MB 6.0MB/s eta 0:00:04    69% |██████████████████████▏         | 42.1MB 18.5MB/s eta 0:00:02    69% |██████████████████████▍         | 42.5MB 7.9MB/s eta 0:00:03    71% |██████████████████████▉         | 43.3MB 6.8MB/s eta 0:00:03    71% |███████████████████████         | 43.7MB 18.5MB/s eta 0:00:01    72% |███████████████████████▏        | 43.9MB 4.9MB/s eta 0:00:04    72% |███████████████████████▎        | 44.2MB 5.9MB/s eta 0:00:03    73% |███████████████████████▍        | 44.4MB 4.9MB/s eta 0:00:04    73% |███████████████████████▋        | 44.7MB 8.5MB/s eta 0:00:02    74% |████████████████████████        | 45.5MB 7.6MB/s eta 0:00:03    75% |████████████████████████▏       | 45.8MB 7.6MB/s eta 0:00:02    76% |████████████████████████▌       | 46.5MB 9.2MB/s eta 0:00:02    78% |█████████████████████████       | 47.6MB 9.4MB/s eta 0:00:02    79% |█████████████████████████▌      | 48.4MB 4.6MB/s eta 0:00:03    80% |█████████████████████████▊      | 48.7MB 6.2MB/s eta 0:00:02    81% |██████████████████████████      | 49.5MB 8.5MB/s eta 0:00:02    82% |██████████████████████████▎     | 49.9MB 8.0MB/s eta 0:00:02    85% |███████████████████████████▎    | 51.7MB 10.9MB/s eta 0:00:01    88% |████████████████████████████▏   | 53.4MB 9.1MB/s eta 0:00:01    88% |████████████████████████████▎   | 53.7MB 7.1MB/s eta 0:00:01    89% |████████████████████████████▊   | 54.5MB 5.2MB/s eta 0:00:02    90% |████████████████████████████▉   | 54.7MB 5.4MB/s eta 0:00:02    90% |█████████████████████████████   | 55.0MB 6.9MB/s eta 0:00:01    91% |█████████████████████████████▎  | 55.6MB 6.2MB/s eta 0:00:01    92% |█████████████████████████████▋  | 56.2MB 6.0MB/s eta 0:00:01    93% |█████████████████████████████▊  | 56.5MB 6.0MB/s eta 0:00:01    93% |██████████████████████████████  | 56.8MB 7.0MB/s eta 0:00:01    94% |██████████████████████████████  | 57.1MB 6.1MB/s eta 0:00:01    94% |██████████████████████████████▎ | 57.4MB 4.8MB/s eta 0:00:01    94% |██████████████████████████████▍ | 57.7MB 4.8MB/s eta 0:00:01    95% |██████████████████████████████▊ | 58.2MB 6.1MB/s eta 0:00:01    96% |██████████████████████████████▉ | 58.4MB 6.2MB/s eta 0:00:01    96% |███████████████████████████████ | 58.8MB 7.7MB/s eta 0:00:01    97% |███████████████████████████████▏| 59.2MB 9.2MB/s eta 0:00:01    98% |███████████████████████████████▍| 59.5MB 8.6MB/s eta 0:00:01    99% |███████████████████████████████▊| 60.2MB 5.0MB/s eta 0:00:01\n",
      "\u001b[?25hRequirement already satisfied: numpy in /opt/conda/lib/python3.6/site-packages (from -r requirements.txt (line 5)) (1.12.1)\n",
      "Requirement already satisfied: matplotlib in /opt/conda/lib/python3.6/site-packages (from -r requirements.txt (line 6)) (2.1.0)\n",
      "Requirement already satisfied: tqdm in /opt/conda/lib/python3.6/site-packages (from -r requirements.txt (line 7)) (4.11.2)\n",
      "Requirement already satisfied: pytest>=3.2.2 in /opt/conda/lib/python3.6/site-packages (from unityagents->-r requirements.txt (line 1)) (4.5.0)\n",
      "Collecting protobuf==3.5.2 (from unityagents->-r requirements.txt (line 1))\n",
      "\u001b[?25l  Downloading https://files.pythonhosted.org/packages/9b/0d/6e9cf54be86c742a375a0ca0addadb582c890939b1b6d3339570e51091bd/protobuf-3.5.2-cp36-cp36m-manylinux1_x86_64.whl (6.4MB)\n",
      "\u001b[K    100% |████████████████████████████████| 6.4MB 2.4MB/s ta 0:00:011  5% |█▋                              | 327kB 7.6MB/s eta 0:00:01    16% |█████▏                          | 1.0MB 6.5MB/s eta 0:00:01    22% |███████▏                        | 1.4MB 9.0MB/s eta 0:00:01    32% |██████████▌                     | 2.1MB 8.2MB/s eta 0:00:01    45% |██████████████▍                 | 2.9MB 7.5MB/s eta 0:00:01    50% |████████████████                | 3.2MB 7.7MB/s eta 0:00:01    56% |██████████████████              | 3.6MB 7.8MB/s eta 0:00:01    62% |███████████████████▉            | 4.0MB 7.4MB/s eta 0:00:01    67% |█████████████████████▊          | 4.4MB 8.9MB/s eta 0:00:01    73% |███████████████████████▍        | 4.7MB 9.0MB/s eta 0:00:01    80% |█████████████████████████▊      | 5.2MB 8.2MB/s eta 0:00:01    85% |███████████████████████████▌    | 5.5MB 7.7MB/s eta 0:00:01    91% |█████████████████████████████▏  | 5.9MB 9.1MB/s eta 0:00:01    98% |███████████████████████████████▌| 6.3MB 8.5MB/s eta 0:00:01\n",
      "\u001b[?25hCollecting jupyter (from unityagents->-r requirements.txt (line 1))\n",
      "  Downloading https://files.pythonhosted.org/packages/83/df/0f5dd132200728a86190397e1ea87cd76244e42d39ec5e88efd25b2abd7e/jupyter-1.0.0-py2.py3-none-any.whl\n",
      "Requirement already satisfied: pyyaml in /opt/conda/lib/python3.6/site-packages (from unityagents->-r requirements.txt (line 1)) (3.12)\n",
      "Requirement already satisfied: Pillow>=4.2.1 in /opt/conda/lib/python3.6/site-packages (from unityagents->-r requirements.txt (line 1)) (5.2.0)\n",
      "Collecting grpcio==1.11.0 (from unityagents->-r requirements.txt (line 1))\n",
      "\u001b[?25l  Downloading https://files.pythonhosted.org/packages/c8/b8/00e703183b7ae5e02f161dafacdfa8edbd7234cb7434aef00f126a3a511e/grpcio-1.11.0-cp36-cp36m-manylinux1_x86_64.whl (8.8MB)\n",
      "\u001b[K    100% |████████████████████████████████| 8.8MB 2.7MB/s ta 0:00:011   4% |█▍                              | 389kB 9.7MB/s eta 0:00:01    13% |████▍                           | 1.2MB 8.5MB/s eta 0:00:01    18% |█████▉                          | 1.6MB 6.5MB/s eta 0:00:02    22% |███████▎                        | 2.0MB 8.9MB/s eta 0:00:01    26% |████████▋                       | 2.4MB 8.2MB/s eta 0:00:01    31% |██████████▏                     | 2.8MB 6.7MB/s eta 0:00:01    36% |███████████▌                    | 3.2MB 7.5MB/s eta 0:00:01    50% |████████████████                | 4.4MB 10.2MB/s eta 0:00:01    60% |███████████████████▏            | 5.3MB 11.3MB/s eta 0:00:01    64% |████████████████████▋           | 5.7MB 9.4MB/s eta 0:00:01    69% |██████████████████████▎         | 6.1MB 7.9MB/s eta 0:00:01    74% |███████████████████████▊        | 6.5MB 7.2MB/s eta 0:00:01    78% |█████████████████████████       | 6.9MB 7.4MB/s eta 0:00:01    87% |████████████████████████████    | 7.7MB 6.3MB/s eta 0:00:01    93% |█████████████████████████████▉  | 8.2MB 8.6MB/s eta 0:00:01    98% |███████████████████████████████▌| 8.6MB 7.6MB/s eta 0:00:01\n",
      "\u001b[?25hCollecting docopt (from unityagents->-r requirements.txt (line 1))\n",
      "  Downloading https://files.pythonhosted.org/packages/a2/55/8f8cab2afd404cf578136ef2cc5dfb50baa1761b68c9da1fb1e4eed343c9/docopt-0.6.2.tar.gz\n",
      "Requirement already satisfied: six>=1.10.0 in /opt/conda/lib/python3.6/site-packages (from tensorflow->-r requirements.txt (line 2)) (1.11.0)\n",
      "Requirement already satisfied: wheel>=0.26 in /opt/conda/lib/python3.6/site-packages (from tensorflow->-r requirements.txt (line 2)) (0.30.0)\n",
      "Collecting tensorflow-tensorboard<0.2.0,>=0.1.0 (from tensorflow->-r requirements.txt (line 2))\n",
      "\u001b[?25l  Downloading https://files.pythonhosted.org/packages/93/31/bb4111c3141d22bd7b2b553a26aa0c1863c86cb723919e5bd7847b3de4fc/tensorflow_tensorboard-0.1.8-py3-none-any.whl (1.6MB)\n",
      "\u001b[K    100% |████████████████████████████████| 1.6MB 4.3MB/s ta 0:00:011    44% |██████████████▎                 | 727kB 10.6MB/s eta 0:00:01    74% |████████████████████████        | 1.2MB 16.6MB/s eta 0:00:01\n",
      "\u001b[?25hCollecting fastrlock>=0.5 (from cupy-cuda102->-r requirements.txt (line 4))\n",
      "\u001b[?25l  Downloading https://files.pythonhosted.org/packages/fc/db/495b49283d22edaee5f20af623b490c36de14d54a5dbe0a3b57840165108/fastrlock-0.8-cp36-cp36m-manylinux_2_5_x86_64.manylinux1_x86_64.manylinux_2_12_x86_64.manylinux2010_x86_64.whl (44kB)\n",
      "\u001b[K    100% |████████████████████████████████| 51kB 2.5MB/s ta 0:00:01\n",
      "\u001b[?25hRequirement already satisfied: python-dateutil>=2.0 in /opt/conda/lib/python3.6/site-packages (from matplotlib->-r requirements.txt (line 6)) (2.6.1)\n",
      "Requirement already satisfied: pytz in /opt/conda/lib/python3.6/site-packages (from matplotlib->-r requirements.txt (line 6)) (2017.3)\n",
      "Requirement already satisfied: cycler>=0.10 in /opt/conda/lib/python3.6/site-packages/cycler-0.10.0-py3.6.egg (from matplotlib->-r requirements.txt (line 6)) (0.10.0)\n",
      "Requirement already satisfied: pyparsing!=2.0.4,!=2.1.2,!=2.1.6,>=2.0.1 in /opt/conda/lib/python3.6/site-packages (from matplotlib->-r requirements.txt (line 6)) (2.2.0)\n",
      "Requirement already satisfied: more-itertools>=4.0.0; python_version > \"2.7\" in /opt/conda/lib/python3.6/site-packages (from pytest>=3.2.2->unityagents->-r requirements.txt (line 1)) (7.0.0)\n",
      "Requirement already satisfied: attrs>=17.4.0 in /opt/conda/lib/python3.6/site-packages (from pytest>=3.2.2->unityagents->-r requirements.txt (line 1)) (19.1.0)\n",
      "Requirement already satisfied: pluggy!=0.10,<1.0,>=0.9 in /opt/conda/lib/python3.6/site-packages (from pytest>=3.2.2->unityagents->-r requirements.txt (line 1)) (0.11.0)\n",
      "Requirement already satisfied: setuptools in /opt/conda/lib/python3.6/site-packages (from pytest>=3.2.2->unityagents->-r requirements.txt (line 1)) (38.4.0)\n",
      "Requirement already satisfied: atomicwrites>=1.0 in /opt/conda/lib/python3.6/site-packages (from pytest>=3.2.2->unityagents->-r requirements.txt (line 1)) (1.3.0)\n",
      "Requirement already satisfied: py>=1.5.0 in /opt/conda/lib/python3.6/site-packages (from pytest>=3.2.2->unityagents->-r requirements.txt (line 1)) (1.8.0)\n",
      "Requirement already satisfied: wcwidth in /opt/conda/lib/python3.6/site-packages (from pytest>=3.2.2->unityagents->-r requirements.txt (line 1)) (0.1.7)\n",
      "Requirement already satisfied: ipykernel in /opt/conda/lib/python3.6/site-packages (from jupyter->unityagents->-r requirements.txt (line 1)) (4.9.0)\n",
      "Collecting jupyter-console (from jupyter->unityagents->-r requirements.txt (line 1))\n",
      "  Downloading https://files.pythonhosted.org/packages/fc/e9/5d4e1e616f7d7a8a9d7f313ac14bf43d1ea33cae6859eeb761b8cac364c2/jupyter_console-6.4.3-py3-none-any.whl\n",
      "Requirement already satisfied: ipywidgets in /opt/conda/lib/python3.6/site-packages (from jupyter->unityagents->-r requirements.txt (line 1)) (7.0.5)\n",
      "Requirement already satisfied: notebook in /opt/conda/lib/python3.6/site-packages (from jupyter->unityagents->-r requirements.txt (line 1)) (5.7.0)\n",
      "Collecting qtconsole (from jupyter->unityagents->-r requirements.txt (line 1))\n",
      "\u001b[?25l  Downloading https://files.pythonhosted.org/packages/67/17/d12ae86393682eaa65741808aa5207dfe85b8504874d09f1bbd1feebdc2a/qtconsole-5.2.2-py3-none-any.whl (120kB)\n",
      "\u001b[K    100% |████████████████████████████████| 122kB 4.7MB/s ta 0:00:01   76% |████████████████████████▌       | 92kB 5.5MB/s eta 0:00:01\n",
      "\u001b[?25hRequirement already satisfied: nbconvert in /opt/conda/lib/python3.6/site-packages (from jupyter->unityagents->-r requirements.txt (line 1)) (5.4.0)\n",
      "Requirement already satisfied: bleach==1.5.0 in /opt/conda/lib/python3.6/site-packages (from tensorflow-tensorboard<0.2.0,>=0.1.0->tensorflow->-r requirements.txt (line 2)) (1.5.0)\n",
      "Requirement already satisfied: html5lib==0.9999999 in /opt/conda/lib/python3.6/site-packages (from tensorflow-tensorboard<0.2.0,>=0.1.0->tensorflow->-r requirements.txt (line 2)) (0.9999999)\n",
      "Requirement already satisfied: markdown>=2.6.8 in /opt/conda/lib/python3.6/site-packages (from tensorflow-tensorboard<0.2.0,>=0.1.0->tensorflow->-r requirements.txt (line 2)) (2.6.9)\n",
      "Requirement already satisfied: werkzeug>=0.11.10 in /opt/conda/lib/python3.6/site-packages (from tensorflow-tensorboard<0.2.0,>=0.1.0->tensorflow->-r requirements.txt (line 2)) (0.14.1)\n",
      "Requirement already satisfied: ipython>=4.0.0 in /opt/conda/lib/python3.6/site-packages (from ipykernel->jupyter->unityagents->-r requirements.txt (line 1)) (6.5.0)\n",
      "Requirement already satisfied: traitlets>=4.1.0 in /opt/conda/lib/python3.6/site-packages (from ipykernel->jupyter->unityagents->-r requirements.txt (line 1)) (4.3.2)\n",
      "Requirement already satisfied: jupyter_client in /opt/conda/lib/python3.6/site-packages (from ipykernel->jupyter->unityagents->-r requirements.txt (line 1)) (5.2.4)\n",
      "Requirement already satisfied: tornado>=4.0 in /opt/conda/lib/python3.6/site-packages (from ipykernel->jupyter->unityagents->-r requirements.txt (line 1)) (4.5.3)\n",
      "Requirement already satisfied: pygments in /opt/conda/lib/python3.6/site-packages (from jupyter-console->jupyter->unityagents->-r requirements.txt (line 1)) (2.2.0)\n",
      "Collecting prompt-toolkit!=3.0.0,!=3.0.1,<3.1.0,>=2.0.0 (from jupyter-console->jupyter->unityagents->-r requirements.txt (line 1))\n",
      "\u001b[?25l  Downloading https://files.pythonhosted.org/packages/00/e4/beb2fad0bec554a011b321d0f6b99981f9171c0b05d03a6948e45ac8a5be/prompt_toolkit-3.0.28-py3-none-any.whl (380kB)\n",
      "\u001b[K    100% |████████████████████████████████| 389kB 8.3MB/s ta 0:00:011\n",
      "\u001b[?25hRequirement already satisfied: nbformat>=4.2.0 in /opt/conda/lib/python3.6/site-packages (from ipywidgets->jupyter->unityagents->-r requirements.txt (line 1)) (4.4.0)\n",
      "Collecting widgetsnbextension~=3.0.0 (from ipywidgets->jupyter->unityagents->-r requirements.txt (line 1))\n",
      "\u001b[?25l  Downloading https://files.pythonhosted.org/packages/8d/f2/c8bcccccbed39d51d3e237fb0c0f0c9bbc845d12afc41f5ca5f5728fffc7/widgetsnbextension-3.0.8-py2.py3-none-any.whl (2.2MB)\n",
      "\u001b[K    100% |████████████████████████████████| 2.2MB 3.5MB/s ta 0:00:011    36% |███████████▉                    | 808kB 10.8MB/s eta 0:00:01    58% |██████████████████▉             | 1.3MB 10.6MB/s eta 0:00:01    97% |███████████████████████████████▏| 2.1MB 8.7MB/s eta 0:00:01\n",
      "\u001b[?25hRequirement already satisfied: jinja2 in /opt/conda/lib/python3.6/site-packages (from notebook->jupyter->unityagents->-r requirements.txt (line 1)) (2.10)\n",
      "Requirement already satisfied: pyzmq>=17 in /opt/conda/lib/python3.6/site-packages (from notebook->jupyter->unityagents->-r requirements.txt (line 1)) (17.1.2)\n",
      "Requirement already satisfied: ipython_genutils in /opt/conda/lib/python3.6/site-packages (from notebook->jupyter->unityagents->-r requirements.txt (line 1)) (0.2.0)\n",
      "Requirement already satisfied: jupyter_core>=4.4.0 in /opt/conda/lib/python3.6/site-packages (from notebook->jupyter->unityagents->-r requirements.txt (line 1)) (4.4.0)\n",
      "Requirement already satisfied: Send2Trash in /opt/conda/lib/python3.6/site-packages (from notebook->jupyter->unityagents->-r requirements.txt (line 1)) (1.5.0)\n",
      "Requirement already satisfied: terminado>=0.8.1 in /opt/conda/lib/python3.6/site-packages (from notebook->jupyter->unityagents->-r requirements.txt (line 1)) (0.8.1)\n",
      "Requirement already satisfied: prometheus_client in /opt/conda/lib/python3.6/site-packages (from notebook->jupyter->unityagents->-r requirements.txt (line 1)) (0.3.1)\n",
      "Collecting qtpy (from qtconsole->jupyter->unityagents->-r requirements.txt (line 1))\n",
      "\u001b[?25l  Downloading https://files.pythonhosted.org/packages/ae/b0/56e602873b05108f0ef9189a237fefcfbcd2fa3d84130b59e50c84fc90e8/QtPy-2.0.1-py3-none-any.whl (65kB)\n",
      "\u001b[K    100% |████████████████████████████████| 71kB 8.7MB/s ta 0:00:01\n",
      "\u001b[?25hRequirement already satisfied: mistune>=0.8.1 in /opt/conda/lib/python3.6/site-packages (from nbconvert->jupyter->unityagents->-r requirements.txt (line 1)) (0.8.3)\n",
      "Requirement already satisfied: entrypoints>=0.2.2 in /opt/conda/lib/python3.6/site-packages (from nbconvert->jupyter->unityagents->-r requirements.txt (line 1)) (0.2.3)\n",
      "Requirement already satisfied: pandocfilters>=1.4.1 in /opt/conda/lib/python3.6/site-packages (from nbconvert->jupyter->unityagents->-r requirements.txt (line 1)) (1.4.1)\n",
      "Requirement already satisfied: testpath in /opt/conda/lib/python3.6/site-packages (from nbconvert->jupyter->unityagents->-r requirements.txt (line 1)) (0.3.1)\n",
      "Requirement already satisfied: defusedxml in /opt/conda/lib/python3.6/site-packages (from nbconvert->jupyter->unityagents->-r requirements.txt (line 1)) (0.5.0)\n",
      "Requirement already satisfied: simplegeneric>0.8 in /opt/conda/lib/python3.6/site-packages (from ipython>=4.0.0->ipykernel->jupyter->unityagents->-r requirements.txt (line 1)) (0.8.1)\n",
      "Requirement already satisfied: decorator in /opt/conda/lib/python3.6/site-packages (from ipython>=4.0.0->ipykernel->jupyter->unityagents->-r requirements.txt (line 1)) (4.0.11)\n",
      "Requirement already satisfied: jedi>=0.10 in /opt/conda/lib/python3.6/site-packages (from ipython>=4.0.0->ipykernel->jupyter->unityagents->-r requirements.txt (line 1)) (0.10.2)\n",
      "Requirement already satisfied: pexpect; sys_platform != \"win32\" in /opt/conda/lib/python3.6/site-packages (from ipython>=4.0.0->ipykernel->jupyter->unityagents->-r requirements.txt (line 1)) (4.3.1)\n",
      "Requirement already satisfied: backcall in /opt/conda/lib/python3.6/site-packages (from ipython>=4.0.0->ipykernel->jupyter->unityagents->-r requirements.txt (line 1)) (0.1.0)\n",
      "Requirement already satisfied: pickleshare in /opt/conda/lib/python3.6/site-packages (from ipython>=4.0.0->ipykernel->jupyter->unityagents->-r requirements.txt (line 1)) (0.7.4)\n",
      "Requirement already satisfied: jsonschema!=2.5.0,>=2.4 in /opt/conda/lib/python3.6/site-packages (from nbformat>=4.2.0->ipywidgets->jupyter->unityagents->-r requirements.txt (line 1)) (2.6.0)\n",
      "Requirement already satisfied: MarkupSafe>=0.23 in /opt/conda/lib/python3.6/site-packages (from jinja2->notebook->jupyter->unityagents->-r requirements.txt (line 1)) (1.0)\n",
      "Requirement already satisfied: packaging in /opt/conda/lib/python3.6/site-packages (from qtpy->qtconsole->jupyter->unityagents->-r requirements.txt (line 1)) (16.8)\n",
      "Requirement already satisfied: ptyprocess>=0.5 in /opt/conda/lib/python3.6/site-packages (from pexpect; sys_platform != \"win32\"->ipython>=4.0.0->ipykernel->jupyter->unityagents->-r requirements.txt (line 1)) (0.5.2)\n",
      "Building wheels for collected packages: docopt\n",
      "  Running setup.py bdist_wheel for docopt ... \u001b[?25ldone\n",
      "\u001b[?25h  Stored in directory: /root/.cache/pip/wheels/9b/04/dd/7daf4150b6d9b12949298737de9431a324d4b797ffd63f526e\n",
      "Successfully built docopt\n",
      "\u001b[31mipython 6.5.0 has requirement prompt-toolkit<2.0.0,>=1.0.15, but you'll have prompt-toolkit 3.0.28 which is incompatible.\u001b[0m\n",
      "\u001b[31mjupyter-console 6.4.3 has requirement jupyter-client>=7.0.0, but you'll have jupyter-client 5.2.4 which is incompatible.\u001b[0m\n",
      "\u001b[31munityagents 0.4.0 has requirement tensorflow==1.7.1, but you'll have tensorflow 1.3.0 which is incompatible.\u001b[0m\n",
      "\u001b[31mcupy-cuda102 9.6.0 has requirement numpy<1.24,>=1.17, but you'll have numpy 1.12.1 which is incompatible.\u001b[0m\n",
      "Installing collected packages: protobuf, prompt-toolkit, jupyter-console, qtpy, qtconsole, jupyter, grpcio, docopt, unityagents, fastrlock, cupy-cuda102, tensorflow-tensorboard, widgetsnbextension\n",
      "  Found existing installation: protobuf 3.5.1\n",
      "    Uninstalling protobuf-3.5.1:\n",
      "      Successfully uninstalled protobuf-3.5.1\n",
      "  Found existing installation: prompt-toolkit 1.0.15\n",
      "    Uninstalling prompt-toolkit-1.0.15:\n",
      "      Successfully uninstalled prompt-toolkit-1.0.15\n",
      "  Found existing installation: widgetsnbextension 3.1.0\n",
      "    Uninstalling widgetsnbextension-3.1.0:\n",
      "      Successfully uninstalled widgetsnbextension-3.1.0\n",
      "Successfully installed cupy-cuda102-9.6.0 docopt-0.6.2 fastrlock-0.8 grpcio-1.11.0 jupyter-1.0.0 jupyter-console-6.4.3 prompt-toolkit-3.0.28 protobuf-3.5.2 qtconsole-5.2.2 qtpy-2.0.1 tensorflow-tensorboard-0.1.8 unityagents-0.4.0 widgetsnbextension-3.0.8\n"
     ]
    }
   ],
   "source": [
    "!pip install -r requirements.txt"
   ]
  },
  {
   "cell_type": "code",
   "execution_count": 2,
   "metadata": {},
   "outputs": [],
   "source": [
    "import random\n",
    "import torch\n",
    "import numpy as np\n",
    "import matplotlib.pyplot as plt\n",
    "%matplotlib inline\n",
    "\n",
    "from collections import deque\n",
    "from workspace_utils import active_session\n",
    "from agent import Agent\n",
    "from unityagents import UnityEnvironment"
   ]
  },
  {
   "cell_type": "code",
   "execution_count": 3,
   "metadata": {},
   "outputs": [
    {
     "name": "stderr",
     "output_type": "stream",
     "text": [
      "INFO:unityagents:\n",
      "'Academy' started successfully!\n",
      "Unity Academy name: Academy\n",
      "        Number of Brains: 1\n",
      "        Number of External Brains : 1\n",
      "        Lesson number : 0\n",
      "        Reset Parameters :\n",
      "\t\t\n",
      "Unity brain name: TennisBrain\n",
      "        Number of Visual Observations (per agent): 0\n",
      "        Vector Observation space type: continuous\n",
      "        Vector Observation space size (per agent): 8\n",
      "        Number of stacked Vector Observation: 3\n",
      "        Vector Action space type: continuous\n",
      "        Vector Action space size (per agent): 2\n",
      "        Vector Action descriptions: , \n"
     ]
    }
   ],
   "source": [
    "env = UnityEnvironment(file_name=\"/data/Tennis_Linux_NoVis/Tennis\")"
   ]
  },
  {
   "cell_type": "code",
   "execution_count": 4,
   "metadata": {},
   "outputs": [],
   "source": [
    "# get the default brain\n",
    "brain_name = env.brain_names[0]\n",
    "brain = env.brains[brain_name]"
   ]
  },
  {
   "cell_type": "code",
   "execution_count": 5,
   "metadata": {},
   "outputs": [
    {
     "name": "stdout",
     "output_type": "stream",
     "text": [
      "Number of agents: 2\n",
      "Size of each action: 2\n",
      "There are 2 agents. Each observes a state with length: 24\n",
      "The state for the first agent looks like: [ 0.          0.          0.          0.          0.          0.          0.\n",
      "  0.          0.          0.          0.          0.          0.          0.\n",
      "  0.          0.         -6.65278625 -1.5        -0.          0.\n",
      "  6.83172083  6.         -0.          0.        ]\n"
     ]
    }
   ],
   "source": [
    "# reset the environment\n",
    "env_info = env.reset(train_mode=True)[brain_name]\n",
    "\n",
    "# number of agents \n",
    "num_agents = len(env_info.agents)\n",
    "print('Number of agents:', num_agents)\n",
    "\n",
    "# size of each action\n",
    "action_size = brain.vector_action_space_size\n",
    "print('Size of each action:', action_size)\n",
    "\n",
    "# examine the state space \n",
    "states = env_info.vector_observations\n",
    "state_size = states.shape[1]\n",
    "print('There are {} agents. Each observes a state with length: {}'.format(states.shape[0], state_size))\n",
    "print('The state for the first agent looks like:', states[0])"
   ]
  },
  {
   "cell_type": "code",
   "execution_count": 6,
   "metadata": {},
   "outputs": [
    {
     "name": "stdout",
     "output_type": "stream",
     "text": [
      "Total score (averaged over agents) this episode: 0.04500000085681677\n",
      "Total score (averaged over agents) this episode: -0.004999999888241291\n",
      "Total score (averaged over agents) this episode: 0.04500000085681677\n",
      "Total score (averaged over agents) this episode: -0.004999999888241291\n",
      "Total score (averaged over agents) this episode: -0.004999999888241291\n"
     ]
    }
   ],
   "source": [
    "for i in range(5):                                         # play game for 5 episodes\n",
    "    env_info = env.reset(train_mode=False)[brain_name]     # reset the environment    \n",
    "    states = env_info.vector_observations                  # get the current state (for each agent)\n",
    "    scores = np.zeros(num_agents)                          # initialize the score (for each agent)\n",
    "    while True:\n",
    "        actions = np.random.randn(num_agents, action_size) # select an action (for each agent)\n",
    "        actions = np.clip(actions, -1, 1)                  # all actions between -1 and 1\n",
    "        env_info = env.step(actions)[brain_name]           # send all actions to tne environment\n",
    "        next_states = env_info.vector_observations         # get next state (for each agent)\n",
    "        rewards = env_info.rewards                         # get reward (for each agent)\n",
    "        dones = env_info.local_done                        # see if episode finished\n",
    "        scores += env_info.rewards                         # update the score (for each agent)\n",
    "        states = next_states                               # roll over states to next time step\n",
    "        if np.any(dones):                                  # exit loop if episode finished\n",
    "            break\n",
    "    print('Total score (averaged over agents) this episode: {}'.format(np.mean(scores)))"
   ]
  },
  {
   "cell_type": "code",
   "execution_count": 7,
   "metadata": {
    "scrolled": true
   },
   "outputs": [],
   "source": [
    "agent = Agent(state_size, action_size, random_seed=0,agents=2)"
   ]
  },
  {
   "cell_type": "code",
   "execution_count": 8,
   "metadata": {},
   "outputs": [],
   "source": [
    "def maddpg(n_episodes=2000, print_every=10, score_solved=0.5):\n",
    "    \"\"\"\n",
    "    Params\n",
    "    ======\n",
    "        n_episodes (int): maximum number of training episodes\n",
    "        max_t (int): maximum number of timesteps per episode\n",
    "    \"\"\"\n",
    "    \n",
    "    agent_score = []                        # list containing scores for each episode\n",
    "    scores_window = deque(maxlen=100)       # last 100 scores\n",
    "    \n",
    "    for i_episode in range(1, n_episodes+1):\n",
    "\n",
    "        env_info = env.reset(train_mode=True)[brain_name]      # reset environment\n",
    "        states = env_info.vector_observations                 # get current state for each agent      \n",
    "        scores = np.zeros(num_agents)                            # initialize score for each agent\n",
    "        agent.reset()                                       \n",
    "        \n",
    "        while True:\n",
    "            actions = agent.act(states)                        # select an action\n",
    "            env_info = env.step(actions)[brain_name]           # send actions to environment\n",
    "            next_states = env_info.vector_observations         # get next state\n",
    "            rewards = env_info.rewards                         # get reward\n",
    "            dones = env_info.local_done                        # see if episode has finished\n",
    "            \n",
    "            # save experience to replay buffer, perform learning step at defined interval\n",
    "            agent.step(states, actions, rewards, next_states, dones)\n",
    "            \n",
    "            states = next_states\n",
    "            scores += rewards                                          \n",
    "            \n",
    "            if np.any(dones):                               # exit loop if episode finished\n",
    "                break          \n",
    "        \n",
    "        score = np.max(scores)\n",
    "        scores_window.append(score)\n",
    "        agent_score.append(score)\n",
    "        \n",
    "        print('\\rEpisode {}\\tAverage Score: {:.4f}'.format(i_episode, np.mean(scores_window)), end=\"\")\n",
    "                \n",
    "        if i_episode % print_every == 0:\n",
    "            print('\\rEpisode {}\\tAverage Score: {:.4f}'.format(i_episode, np.mean(scores_window)))\n",
    "        if np.mean(scores_window) >= score_solved:\n",
    "            print('\\nEnvironment solved in {:d} episodes!\\tAverage Score: {:.4f}'.format(i_episode, np.mean(scores_window)))\n",
    "            torch.save(agent.actor_local.state_dict(), 'actor_checkpoint.pth')\n",
    "            torch.save(agent.critic_local.state_dict(), 'critic_checkpoint.pth')\n",
    "            break\n",
    "            \n",
    "    return agent_score\n"
   ]
  },
  {
   "cell_type": "code",
   "execution_count": 9,
   "metadata": {},
   "outputs": [
    {
     "name": "stdout",
     "output_type": "stream",
     "text": [
      "Episode 10\tAverage Score: 0.0200\n",
      "Episode 20\tAverage Score: 0.0100\n",
      "Episode 30\tAverage Score: 0.0067\n",
      "Episode 40\tAverage Score: 0.0120\n",
      "Episode 50\tAverage Score: 0.0234\n",
      "Episode 60\tAverage Score: 0.0245\n",
      "Episode 70\tAverage Score: 0.0307\n",
      "Episode 80\tAverage Score: 0.0355\n",
      "Episode 90\tAverage Score: 0.0401\n",
      "Episode 100\tAverage Score: 0.0418\n",
      "Episode 110\tAverage Score: 0.0448\n",
      "Episode 120\tAverage Score: 0.0537\n",
      "Episode 130\tAverage Score: 0.0616\n",
      "Episode 140\tAverage Score: 0.0686\n",
      "Episode 150\tAverage Score: 0.0795\n",
      "Episode 160\tAverage Score: 0.0915\n",
      "Episode 170\tAverage Score: 0.1177\n",
      "Episode 180\tAverage Score: 0.1208\n",
      "Episode 190\tAverage Score: 0.1311\n",
      "Episode 200\tAverage Score: 0.1484\n",
      "Episode 210\tAverage Score: 0.1712\n",
      "Episode 220\tAverage Score: 0.1852\n",
      "Episode 230\tAverage Score: 0.2183\n",
      "Episode 240\tAverage Score: 0.2365\n",
      "Episode 250\tAverage Score: 0.2366\n",
      "Episode 260\tAverage Score: 0.2445\n",
      "Episode 270\tAverage Score: 0.2374\n",
      "Episode 280\tAverage Score: 0.2604\n",
      "Episode 290\tAverage Score: 0.2564\n",
      "Episode 300\tAverage Score: 0.2473\n",
      "Episode 310\tAverage Score: 0.2464\n",
      "Episode 320\tAverage Score: 0.2485\n",
      "Episode 330\tAverage Score: 0.2384\n",
      "Episode 340\tAverage Score: 0.2364\n",
      "Episode 350\tAverage Score: 0.2455\n",
      "Episode 360\tAverage Score: 0.2626\n",
      "Episode 370\tAverage Score: 0.2757\n",
      "Episode 380\tAverage Score: 0.2976\n",
      "Episode 390\tAverage Score: 0.3206\n",
      "Episode 400\tAverage Score: 0.3477\n",
      "Episode 410\tAverage Score: 0.3798\n",
      "Episode 420\tAverage Score: 0.3866\n",
      "Episode 430\tAverage Score: 0.4115\n",
      "Episode 440\tAverage Score: 0.4555\n",
      "Episode 450\tAverage Score: 0.4934\n",
      "Episode 454\tAverage Score: 0.5014\n",
      "Environment solved in 454 episodes!\tAverage Score: 0.5014\n"
     ]
    }
   ],
   "source": [
    "with active_session():\n",
    "    scores = maddpg()"
   ]
  },
  {
   "cell_type": "code",
   "execution_count": 10,
   "metadata": {},
   "outputs": [
    {
     "data": {
      "image/png": "[encoded data removed]",
      "text/plain": [
       "<matplotlib.figure.Figure at 0x7fd16e430ac8>"
      ]
     },
     "metadata": {
      "needs_background": "light"
     },
     "output_type": "display_data"
    }
   ],
   "source": [
    "fig = plt.figure()\n",
    "ax = fig.add_subplot(111)\n",
    "plt.plot(np.arange(1, len(scores)+1), scores)\n",
    "plt.ylabel('Score')\n",
    "plt.xlabel('Episode')\n",
    "plt.show()"
   ]
  },
  {
   "cell_type": "code",
   "execution_count": 11,
   "metadata": {},
   "outputs": [],
   "source": [
    "env.close()"
   ]
  }
 ],
 "metadata": {
  "kernelspec": {
   "display_name": "Python 3",
   "language": "python",
   "name": "python3"
  },
  "language_info": {
   "codemirror_mode": {
    "name": "ipython",
    "version": 3
   },
   "file_extension": ".py",
   "mimetype": "text/x-python",
   "name": "python",
   "nbconvert_exporter": "python",
   "pygments_lexer": "ipython3",
   "version": "3.6.3"
  }
 },
 "nbformat": 4,
 "nbformat_minor": 2
}
